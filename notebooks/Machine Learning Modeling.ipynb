{
 "cells": [
  {
   "cell_type": "code",
   "execution_count": 52,
   "id": "3c380135-a399-4cdb-bf6e-5b98cc615cb0",
   "metadata": {},
   "outputs": [],
   "source": [
    "# data manipulation\n",
    "import numpy as np\n",
    "import pandas as pd\n",
    "\n",
    "# preprocessing\n",
    "from sklearn.model_selection import train_test_split\n",
    "from sklearn.preprocessing import OneHotEncoder, StandardScaler\n",
    "from sklearn.compose import ColumnTransformer\n",
    "\n",
    "# machine learning models\n",
    "from sklearn.linear_model import LinearRegression, Ridge, Lasso\n",
    "from sklearn.svm import SVR\n",
    "from sklearn.ensemble import RandomForestRegressor, AdaBoostRegressor\n",
    "from lightgbm import LGBMRegressor\n",
    "from catboost import CatBoostRegressor\n",
    "from xgboost import XGBRegressor\n",
    "\n",
    "# cross validation\n",
    "from sklearn.model_selection import RandomizedSearchCV\n",
    "\n",
    "# hyperparameter tuning\n",
    "import optuna\n",
    "\n",
    "# evaluation metrics\n",
    "from tabulate import tabulate\n",
    "from sklearn.metrics import r2_score, mean_absolute_error, mean_squared_error\n",
    "\n",
    "# damp warnings\n",
    "import logging"
   ]
  },
  {
   "cell_type": "code",
   "execution_count": 15,
   "id": "767a3ecc-5632-4507-9afd-ad4002c438a4",
   "metadata": {},
   "outputs": [],
   "source": [
    "dataframe= pd.read_csv('./StudentsPerformance.csv')"
   ]
  },
  {
   "cell_type": "code",
   "execution_count": 16,
   "id": "75b1a8a7-66eb-479f-aa5e-904f29c60fde",
   "metadata": {},
   "outputs": [
    {
     "data": {
      "text/html": [
       "<div>\n",
       "<style scoped>\n",
       "    .dataframe tbody tr th:only-of-type {\n",
       "        vertical-align: middle;\n",
       "    }\n",
       "\n",
       "    .dataframe tbody tr th {\n",
       "        vertical-align: top;\n",
       "    }\n",
       "\n",
       "    .dataframe thead th {\n",
       "        text-align: right;\n",
       "    }\n",
       "</style>\n",
       "<table border=\"1\" class=\"dataframe\">\n",
       "  <thead>\n",
       "    <tr style=\"text-align: right;\">\n",
       "      <th></th>\n",
       "      <th>gender</th>\n",
       "      <th>race/ethnicity</th>\n",
       "      <th>parental level of education</th>\n",
       "      <th>lunch</th>\n",
       "      <th>test preparation course</th>\n",
       "      <th>math score</th>\n",
       "      <th>reading score</th>\n",
       "      <th>writing score</th>\n",
       "    </tr>\n",
       "  </thead>\n",
       "  <tbody>\n",
       "    <tr>\n",
       "      <th>0</th>\n",
       "      <td>female</td>\n",
       "      <td>group B</td>\n",
       "      <td>bachelor's degree</td>\n",
       "      <td>standard</td>\n",
       "      <td>none</td>\n",
       "      <td>72</td>\n",
       "      <td>72</td>\n",
       "      <td>74</td>\n",
       "    </tr>\n",
       "    <tr>\n",
       "      <th>1</th>\n",
       "      <td>female</td>\n",
       "      <td>group C</td>\n",
       "      <td>some college</td>\n",
       "      <td>standard</td>\n",
       "      <td>completed</td>\n",
       "      <td>69</td>\n",
       "      <td>90</td>\n",
       "      <td>88</td>\n",
       "    </tr>\n",
       "    <tr>\n",
       "      <th>2</th>\n",
       "      <td>female</td>\n",
       "      <td>group B</td>\n",
       "      <td>master's degree</td>\n",
       "      <td>standard</td>\n",
       "      <td>none</td>\n",
       "      <td>90</td>\n",
       "      <td>95</td>\n",
       "      <td>93</td>\n",
       "    </tr>\n",
       "    <tr>\n",
       "      <th>3</th>\n",
       "      <td>male</td>\n",
       "      <td>group A</td>\n",
       "      <td>associate's degree</td>\n",
       "      <td>free/reduced</td>\n",
       "      <td>none</td>\n",
       "      <td>47</td>\n",
       "      <td>57</td>\n",
       "      <td>44</td>\n",
       "    </tr>\n",
       "    <tr>\n",
       "      <th>4</th>\n",
       "      <td>male</td>\n",
       "      <td>group C</td>\n",
       "      <td>some college</td>\n",
       "      <td>standard</td>\n",
       "      <td>none</td>\n",
       "      <td>76</td>\n",
       "      <td>78</td>\n",
       "      <td>75</td>\n",
       "    </tr>\n",
       "  </tbody>\n",
       "</table>\n",
       "</div>"
      ],
      "text/plain": [
       "   gender race/ethnicity parental level of education         lunch  \\\n",
       "0  female        group B           bachelor's degree      standard   \n",
       "1  female        group C                some college      standard   \n",
       "2  female        group B             master's degree      standard   \n",
       "3    male        group A          associate's degree  free/reduced   \n",
       "4    male        group C                some college      standard   \n",
       "\n",
       "  test preparation course  math score  reading score  writing score  \n",
       "0                    none          72             72             74  \n",
       "1               completed          69             90             88  \n",
       "2                    none          90             95             93  \n",
       "3                    none          47             57             44  \n",
       "4                    none          76             78             75  "
      ]
     },
     "execution_count": 16,
     "metadata": {},
     "output_type": "execute_result"
    }
   ],
   "source": [
    "dataframe.head()"
   ]
  },
  {
   "cell_type": "markdown",
   "id": "f159b854-0005-40a9-8094-0b1738fefaed",
   "metadata": {},
   "source": [
    "### Problem Statement\n",
    "#### Here we'll try to predict the maths score given the other features for each student."
   ]
  },
  {
   "cell_type": "code",
   "execution_count": 17,
   "id": "12ffd60b-e2b0-45a2-ae48-ed83f5a014ef",
   "metadata": {},
   "outputs": [],
   "source": [
    "X= dataframe.drop('math score', axis= 1)\n",
    "y= dataframe['math score']"
   ]
  },
  {
   "cell_type": "markdown",
   "id": "8415d1a7-fd3e-4d07-82ba-6880dfa48a6f",
   "metadata": {},
   "source": [
    "In the section of EDA we have seen that besides test scores, all the other columns should be treated as categorical columns."
   ]
  },
  {
   "cell_type": "code",
   "execution_count": 18,
   "id": "610b6843-1d7e-4031-9189-96336b783bf6",
   "metadata": {},
   "outputs": [],
   "source": [
    "cat_col= X.select_dtypes(include= 'O').columns\n",
    "num_col= X.select_dtypes(exclude= 'O').columns"
   ]
  },
  {
   "cell_type": "markdown",
   "id": "838e0323-e7f3-47c6-8514-bc881433ece2",
   "metadata": {},
   "source": [
    "Transforming the columns for training\n",
    "- StandardScaler: To bring the entire numerical data at the origin region\n",
    "- OneHotEncoder: As there are not a lot of categories in each column, we can use OneHotEncoder"
   ]
  },
  {
   "cell_type": "code",
   "execution_count": 19,
   "id": "61b35373-a0cb-424d-8f27-63836259ef2c",
   "metadata": {},
   "outputs": [],
   "source": [
    "num_trans= StandardScaler()\n",
    "cat_trans= OneHotEncoder()\n",
    "\n",
    "preprocessor= ColumnTransformer([('OneHotEncoder', cat_trans, cat_col),\n",
    "                                 ('StandardScaler', num_trans, num_col)])"
   ]
  },
  {
   "cell_type": "code",
   "execution_count": 20,
   "id": "b1810269-e8e7-440e-85fe-e95cab5f409b",
   "metadata": {},
   "outputs": [],
   "source": [
    "X= preprocessor.fit_transform(X)"
   ]
  },
  {
   "cell_type": "code",
   "execution_count": 21,
   "id": "c9dfbdc4-1c92-4161-be78-63c3966a70e3",
   "metadata": {},
   "outputs": [
    {
     "data": {
      "text/plain": [
       "(1000, 19)"
      ]
     },
     "execution_count": 21,
     "metadata": {},
     "output_type": "execute_result"
    }
   ],
   "source": [
    "X.shape"
   ]
  },
  {
   "cell_type": "markdown",
   "id": "2970fb02-8545-4885-b3e1-7884baea56f4",
   "metadata": {},
   "source": [
    "##### Making train-test split for model training"
   ]
  },
  {
   "cell_type": "code",
   "execution_count": 22,
   "id": "07a5b333-78e5-4210-a906-2bc5eea9228c",
   "metadata": {},
   "outputs": [
    {
     "data": {
      "text/plain": [
       "((800, 19), (200, 19), (800,), (200,))"
      ]
     },
     "execution_count": 22,
     "metadata": {},
     "output_type": "execute_result"
    }
   ],
   "source": [
    "X_train, X_test, y_train, y_test= train_test_split(X, y, test_size= 0.2, random_state= 42)\n",
    "X_train.shape, X_test.shape, y_train.shape, y_test.shape"
   ]
  },
  {
   "cell_type": "markdown",
   "id": "6aa026db-f76a-4ccf-b785-5827664cc428",
   "metadata": {},
   "source": [
    "##### Making an evaluation metrics function"
   ]
  },
  {
   "cell_type": "code",
   "execution_count": 34,
   "id": "55bd082e-3cae-4caf-ba4e-faf8071dc89c",
   "metadata": {},
   "outputs": [],
   "source": [
    "def evaluation_metrics(true, predicted):\n",
    "    MAE= f'{mean_absolute_error(true, predicted):.3f}'\n",
    "    RMSE= f'{mean_squared_error(true, predicted, squared= False):.3f}'\n",
    "    R2= f'{r2_score(true, predicted):.3f}'\n",
    "\n",
    "    metrics_data= {'Metric': ['MAE', 'RMSE', 'R2'],\n",
    "                   'Value': [MAE, RMSE, R2]}\n",
    "    \n",
    "    metrics_dataframe= pd.DataFrame(metrics_data)\n",
    "    table= tabulate(metrics_dataframe, headers= 'keys', tablefmt= 'pretty', showindex= False)\n",
    "\n",
    "    return table"
   ]
  },
  {
   "cell_type": "markdown",
   "id": "471c4fbd-85ec-4c80-9514-df0f74f5244f",
   "metadata": {},
   "source": [
    "##### Evaluating the listed regression models"
   ]
  },
  {
   "cell_type": "code",
   "execution_count": 35,
   "id": "55e2504d-a979-48b6-b9a3-33523984ada5",
   "metadata": {},
   "outputs": [],
   "source": [
    "def evaluate_model(model, model_name, train_features, test_features, train_target, test_target):\n",
    "    # fit model on train data\n",
    "    model.fit(train_features, train_target)\n",
    "    \n",
    "    # find predictions for train and test data\n",
    "    train_prediction= model.predict(train_features)\n",
    "    test_prediction= model.predict(test_features)\n",
    "\n",
    "    # evalute model performance\n",
    "    train_metrics= evaluation_metrics(train_target, train_prediction)\n",
    "    test_metrics= evaluation_metrics(test_target, test_prediction)\n",
    "\n",
    "    print('===================================================================================')\n",
    "    print(f'MODEL : {model_name}')\n",
    "    print('-----------------------------------------------------------------------------------')\n",
    "    print('TRAIN DATA')\n",
    "    print(train_metrics)\n",
    "    print('-----------------------------------------------------------------------------------')\n",
    "    print('TEST DATA')\n",
    "    print(test_metrics)"
   ]
  },
  {
   "cell_type": "code",
   "execution_count": 36,
   "id": "d68e6faa-d43e-4b54-8c92-a8d8b16a0ec4",
   "metadata": {},
   "outputs": [],
   "source": [
    "# listed models\n",
    "models= {'Liner Regression': LinearRegression(),\n",
    "         'Lasso': Lasso(),\n",
    "         'Ridge': Ridge(),\n",
    "         'Random Forest Regressor': RandomForestRegressor(),\n",
    "         'XGBoost': XGBRegressor(verbosity= 0),\n",
    "         'LGBM Regressor': LGBMRegressor(verbosity= -1),\n",
    "         'CatBoost Regressor': CatBoostRegressor(verbose= False),\n",
    "         'AdaBoost Regressor': AdaBoostRegressor()}"
   ]
  },
  {
   "cell_type": "code",
   "execution_count": 37,
   "id": "90a3e8ee-e28a-434a-b4b2-610379f72115",
   "metadata": {},
   "outputs": [
    {
     "name": "stdout",
     "output_type": "stream",
     "text": [
      "===================================================================================\n",
      "MODEL : Liner Regression\n",
      "-----------------------------------------------------------------------------------\n",
      "TRAIN DATA\n",
      "+--------+-------+\n",
      "| Metric | Value |\n",
      "+--------+-------+\n",
      "|  MAE   | 4.272 |\n",
      "|  RMSE  | 5.340 |\n",
      "|   R2   | 0.874 |\n",
      "+--------+-------+\n",
      "-----------------------------------------------------------------------------------\n",
      "TEST DATA\n",
      "+--------+-------+\n",
      "| Metric | Value |\n",
      "+--------+-------+\n",
      "|  MAE   | 4.225 |\n",
      "|  RMSE  | 5.421 |\n",
      "|   R2   | 0.879 |\n",
      "+--------+-------+\n",
      "===================================================================================\n",
      "MODEL : Lasso\n",
      "-----------------------------------------------------------------------------------\n",
      "TRAIN DATA\n",
      "+--------+-------+\n",
      "| Metric | Value |\n",
      "+--------+-------+\n",
      "|  MAE   | 5.206 |\n",
      "|  RMSE  | 6.594 |\n",
      "|   R2   | 0.807 |\n",
      "+--------+-------+\n",
      "-----------------------------------------------------------------------------------\n",
      "TEST DATA\n",
      "+--------+-------+\n",
      "| Metric | Value |\n",
      "+--------+-------+\n",
      "|  MAE   | 5.158 |\n",
      "|  RMSE  | 6.520 |\n",
      "|   R2   | 0.825 |\n",
      "+--------+-------+\n",
      "===================================================================================\n",
      "MODEL : Ridge\n",
      "-----------------------------------------------------------------------------------\n",
      "TRAIN DATA\n",
      "+--------+-------+\n",
      "| Metric | Value |\n",
      "+--------+-------+\n",
      "|  MAE   | 4.265 |\n",
      "|  RMSE  | 5.323 |\n",
      "|   R2   | 0.874 |\n",
      "+--------+-------+\n",
      "-----------------------------------------------------------------------------------\n",
      "TEST DATA\n",
      "+--------+-------+\n",
      "| Metric | Value |\n",
      "+--------+-------+\n",
      "|  MAE   | 4.211 |\n",
      "|  RMSE  | 5.390 |\n",
      "|   R2   | 0.881 |\n",
      "+--------+-------+\n",
      "===================================================================================\n",
      "MODEL : Random Forest Regressor\n",
      "-----------------------------------------------------------------------------------\n",
      "TRAIN DATA\n",
      "+--------+-------+\n",
      "| Metric | Value |\n",
      "+--------+-------+\n",
      "|  MAE   | 1.816 |\n",
      "|  RMSE  | 2.285 |\n",
      "|   R2   | 0.977 |\n",
      "+--------+-------+\n",
      "-----------------------------------------------------------------------------------\n",
      "TEST DATA\n",
      "+--------+-------+\n",
      "| Metric | Value |\n",
      "+--------+-------+\n",
      "|  MAE   | 4.652 |\n",
      "|  RMSE  | 5.991 |\n",
      "|   R2   | 0.852 |\n",
      "+--------+-------+\n",
      "===================================================================================\n",
      "MODEL : XGBoost\n",
      "-----------------------------------------------------------------------------------\n",
      "TRAIN DATA\n",
      "+--------+-------+\n",
      "| Metric | Value |\n",
      "+--------+-------+\n",
      "|  MAE   | 0.687 |\n",
      "|  RMSE  | 1.007 |\n",
      "|   R2   | 0.995 |\n",
      "+--------+-------+\n",
      "-----------------------------------------------------------------------------------\n",
      "TEST DATA\n",
      "+--------+-------+\n",
      "| Metric | Value |\n",
      "+--------+-------+\n",
      "|  MAE   | 5.058 |\n",
      "|  RMSE  | 6.473 |\n",
      "|   R2   | 0.828 |\n",
      "+--------+-------+\n",
      "===================================================================================\n",
      "MODEL : LGBM Regressor\n",
      "-----------------------------------------------------------------------------------\n",
      "TRAIN DATA\n",
      "+--------+-------+\n",
      "| Metric | Value |\n",
      "+--------+-------+\n",
      "|  MAE   | 2.859 |\n",
      "|  RMSE  | 3.621 |\n",
      "|   R2   | 0.942 |\n",
      "+--------+-------+\n",
      "-----------------------------------------------------------------------------------\n",
      "TEST DATA\n",
      "+--------+-------+\n",
      "| Metric | Value |\n",
      "+--------+-------+\n",
      "|  MAE   | 4.660 |\n",
      "|  RMSE  | 6.218 |\n",
      "|   R2   | 0.841 |\n",
      "+--------+-------+\n",
      "===================================================================================\n",
      "MODEL : CatBoost Regressor\n",
      "-----------------------------------------------------------------------------------\n",
      "TRAIN DATA\n",
      "+--------+-------+\n",
      "| Metric | Value |\n",
      "+--------+-------+\n",
      "|  MAE   | 2.405 |\n",
      "|  RMSE  | 3.043 |\n",
      "|   R2   | 0.959 |\n",
      "+--------+-------+\n",
      "-----------------------------------------------------------------------------------\n",
      "TEST DATA\n",
      "+--------+-------+\n",
      "| Metric | Value |\n",
      "+--------+-------+\n",
      "|  MAE   | 4.613 |\n",
      "|  RMSE  | 6.009 |\n",
      "|   R2   | 0.852 |\n",
      "+--------+-------+\n",
      "===================================================================================\n",
      "MODEL : AdaBoost Regressor\n",
      "-----------------------------------------------------------------------------------\n",
      "TRAIN DATA\n",
      "+--------+-------+\n",
      "| Metric | Value |\n",
      "+--------+-------+\n",
      "|  MAE   | 4.705 |\n",
      "|  RMSE  | 5.763 |\n",
      "|   R2   | 0.853 |\n",
      "+--------+-------+\n",
      "-----------------------------------------------------------------------------------\n",
      "TEST DATA\n",
      "+--------+-------+\n",
      "| Metric | Value |\n",
      "+--------+-------+\n",
      "|  MAE   | 4.752 |\n",
      "|  RMSE  | 6.127 |\n",
      "|   R2   | 0.846 |\n",
      "+--------+-------+\n"
     ]
    }
   ],
   "source": [
    "for model_name, model_object in models.items():\n",
    "    evaluate_model(model_object, model_name, X_train, X_test, y_train, y_test)"
   ]
  },
  {
   "cell_type": "markdown",
   "id": "fb7fc8c0-15dd-4f64-8487-5f24c18b9fee",
   "metadata": {},
   "source": [
    "##### Observations:\n",
    "Best performing models:\n",
    "- Linear Regression\n",
    "- Random Forest Regressor\n",
    "- CatBoost Regressor\n",
    "- AdaBoost Regressor\n",
    "\n",
    "Now, we can take each screened-in model and perform a hyperparameter tuning using optuna to find the best model out of them all."
   ]
  },
  {
   "cell_type": "markdown",
   "id": "219aa28f-a474-43b3-9b0c-197d1027c35e",
   "metadata": {},
   "source": [
    "### Hyperparameter tuning of selected models"
   ]
  },
  {
   "cell_type": "code",
   "execution_count": 45,
   "id": "041cd11d-1bf7-4254-8f0c-66402d419d48",
   "metadata": {},
   "outputs": [],
   "source": [
    "# making the objective function for optuna\n",
    "def objective(trial):\n",
    "    # listing down the selected models\n",
    "    model_name= trial.suggest_categorical('model', ['LR', 'RFR', 'CAT', 'ADA'])\n",
    "\n",
    "    # defining hyperparameter range for selected model\n",
    "    if model_name == 'LR':\n",
    "        model= LinearRegression()\n",
    "        \n",
    "    elif model_name == 'RFR':\n",
    "        parameters= {\"n_estimators\": trial.suggest_int(\"n_estimators_rf\", 50, 200),\n",
    "                     \"max_depth\": trial.suggest_int(\"max_depth_rf\", 5, 15),\n",
    "                     \"min_samples_split\": trial.suggest_int(\"min_samples_split_rf\", 2, 10),\n",
    "                     \"min_samples_leaf\": trial.suggest_int(\"min_samples_leaf_rf\", 1, 5)}\n",
    "        model= RandomForestRegressor(**parameters)\n",
    "\n",
    "    elif model_name == 'CAT':\n",
    "        parameters= {\"n_estimators\": trial.suggest_int(\"n_estimators_cb\", 50, 200),\n",
    "                     \"learning_rate\": trial.suggest_float(\"learning_rate_cb\", 0.01, 0.2),\n",
    "                     \"depth\": trial.suggest_int(\"depth_cb\", 3, 10),\n",
    "                     \"subsample\": trial.suggest_float(\"subsample_cb\", 0.5, 1.0),\n",
    "                     \"colsample_bylevel\": trial.suggest_float(\"colsample_bylevel_cb\", 0.5, 1.0),\n",
    "                     \"border_count\": trial.suggest_int(\"border_count_cb\", 32, 255)}\n",
    "        model= CatBoostRegressor(**parameters, verbose= False)\n",
    "\n",
    "    elif model_name == 'ADA':\n",
    "        parameters= {\"n_estimators\": trial.suggest_int(\"n_estimators_ab\", 50, 200),\n",
    "                     \"learning_rate\": trial.suggest_float(\"learning_rate_ab\", 0.01, 0.2),\n",
    "                     \"loss\": trial.suggest_categorical(\"loss_ab\", [\"linear\", \"square\", \"exponential\"])}\n",
    "        model= AdaBoostRegressor(**parameters)\n",
    "\n",
    "    # train model\n",
    "    model.fit(X_train, y_train)\n",
    "    \n",
    "    # making predictions\n",
    "    y_prediction= model.predict(X_test)\n",
    "\n",
    "    # loss function\n",
    "    MSE= mean_squared_error(y_test, y_prediction)\n",
    "    return MSE"
   ]
  },
  {
   "cell_type": "markdown",
   "id": "8818566b-fae4-4eba-b156-ebcfe02e6918",
   "metadata": {},
   "source": [
    "##### Creating optuna study for best model selection"
   ]
  },
  {
   "cell_type": "code",
   "execution_count": 54,
   "id": "de4964e9-1485-44f0-9534-d788734da4b7",
   "metadata": {},
   "outputs": [
    {
     "name": "stderr",
     "output_type": "stream",
     "text": [
      "[I 2024-01-16 09:47:21,975] A new study created in memory with name: no-name-cdf52fca-6941-4eee-a091-b6020b88e8d0\n",
      "[I 2024-01-16 09:47:22,521] Trial 0 finished with value: 36.01640059416855 and parameters: {'model': 'RFR', 'n_estimators_rf': 152, 'max_depth_rf': 12, 'min_samples_split_rf': 9, 'min_samples_leaf_rf': 5}. Best is trial 0 with value: 36.01640059416855.\n",
      "[I 2024-01-16 09:47:22,528] Trial 1 finished with value: 29.39126953125 and parameters: {'model': 'LR'}. Best is trial 1 with value: 29.39126953125.\n",
      "[I 2024-01-16 09:47:22,960] Trial 2 finished with value: 37.2147692615302 and parameters: {'model': 'ADA', 'n_estimators_ab': 170, 'learning_rate_ab': 0.1607887790854484, 'loss_ab': 'exponential'}. Best is trial 1 with value: 29.39126953125.\n",
      "[I 2024-01-16 09:47:22,966] Trial 3 finished with value: 29.39126953125 and parameters: {'model': 'LR'}. Best is trial 1 with value: 29.39126953125.\n",
      "[I 2024-01-16 09:47:23,262] Trial 4 finished with value: 38.18929303357922 and parameters: {'model': 'ADA', 'n_estimators_ab': 110, 'learning_rate_ab': 0.19857870308623363, 'loss_ab': 'exponential'}. Best is trial 1 with value: 29.39126953125.\n",
      "[I 2024-01-16 09:47:23,936] Trial 5 finished with value: 35.88502645763736 and parameters: {'model': 'RFR', 'n_estimators_rf': 160, 'max_depth_rf': 12, 'min_samples_split_rf': 9, 'min_samples_leaf_rf': 1}. Best is trial 1 with value: 29.39126953125.\n",
      "[I 2024-01-16 09:47:23,942] Trial 6 finished with value: 29.39126953125 and parameters: {'model': 'LR'}. Best is trial 1 with value: 29.39126953125.\n",
      "[I 2024-01-16 09:47:23,949] Trial 7 finished with value: 29.39126953125 and parameters: {'model': 'LR'}. Best is trial 1 with value: 29.39126953125.\n",
      "[I 2024-01-16 09:47:24,173] Trial 8 finished with value: 50.509371424007306 and parameters: {'model': 'ADA', 'n_estimators_ab': 76, 'learning_rate_ab': 0.011788388854926118, 'loss_ab': 'square'}. Best is trial 1 with value: 29.39126953125.\n",
      "[I 2024-01-16 09:47:24,446] Trial 9 finished with value: 52.58721397773686 and parameters: {'model': 'CAT', 'n_estimators_cb': 65, 'learning_rate_cb': 0.04473538980046401, 'depth_cb': 10, 'subsample_cb': 0.8810195909761225, 'colsample_bylevel_cb': 0.7713055659870713, 'border_count_cb': 120}. Best is trial 1 with value: 29.39126953125.\n",
      "[I 2024-01-16 09:47:24,617] Trial 10 finished with value: 32.12756224363823 and parameters: {'model': 'CAT', 'n_estimators_cb': 199, 'learning_rate_cb': 0.18696600299645996, 'depth_cb': 3, 'subsample_cb': 0.5150110054342809, 'colsample_bylevel_cb': 0.5336763767586594, 'border_count_cb': 254}. Best is trial 1 with value: 29.39126953125.\n",
      "[I 2024-01-16 09:47:24,624] Trial 11 finished with value: 29.39126953125 and parameters: {'model': 'LR'}. Best is trial 1 with value: 29.39126953125.\n",
      "[I 2024-01-16 09:47:24,633] Trial 12 finished with value: 29.39126953125 and parameters: {'model': 'LR'}. Best is trial 1 with value: 29.39126953125.\n",
      "[I 2024-01-16 09:47:24,643] Trial 13 finished with value: 29.39126953125 and parameters: {'model': 'LR'}. Best is trial 1 with value: 29.39126953125.\n",
      "[I 2024-01-16 09:47:24,651] Trial 14 finished with value: 29.39126953125 and parameters: {'model': 'LR'}. Best is trial 1 with value: 29.39126953125.\n",
      "[I 2024-01-16 09:47:24,660] Trial 15 finished with value: 29.39126953125 and parameters: {'model': 'LR'}. Best is trial 1 with value: 29.39126953125.\n",
      "[I 2024-01-16 09:47:24,668] Trial 16 finished with value: 29.39126953125 and parameters: {'model': 'LR'}. Best is trial 1 with value: 29.39126953125.\n",
      "[I 2024-01-16 09:47:24,922] Trial 17 finished with value: 55.46387541791277 and parameters: {'model': 'CAT', 'n_estimators_cb': 154, 'learning_rate_cb': 0.011896517882638805, 'depth_cb': 6, 'subsample_cb': 0.9994601757174001, 'colsample_bylevel_cb': 0.9536875947465999, 'border_count_cb': 35}. Best is trial 1 with value: 29.39126953125.\n",
      "[I 2024-01-16 09:47:25,194] Trial 18 finished with value: 34.72459757525392 and parameters: {'model': 'RFR', 'n_estimators_rf': 58, 'max_depth_rf': 6, 'min_samples_split_rf': 2, 'min_samples_leaf_rf': 3}. Best is trial 1 with value: 29.39126953125.\n",
      "[I 2024-01-16 09:47:25,202] Trial 19 finished with value: 29.39126953125 and parameters: {'model': 'LR'}. Best is trial 1 with value: 29.39126953125.\n",
      "[I 2024-01-16 09:47:25,213] Trial 20 finished with value: 29.39126953125 and parameters: {'model': 'LR'}. Best is trial 1 with value: 29.39126953125.\n",
      "[I 2024-01-16 09:47:25,222] Trial 21 finished with value: 29.39126953125 and parameters: {'model': 'LR'}. Best is trial 1 with value: 29.39126953125.\n",
      "[I 2024-01-16 09:47:25,237] Trial 22 finished with value: 29.39126953125 and parameters: {'model': 'LR'}. Best is trial 1 with value: 29.39126953125.\n",
      "[I 2024-01-16 09:47:25,247] Trial 23 finished with value: 29.39126953125 and parameters: {'model': 'LR'}. Best is trial 1 with value: 29.39126953125.\n",
      "[I 2024-01-16 09:47:25,256] Trial 24 finished with value: 29.39126953125 and parameters: {'model': 'LR'}. Best is trial 1 with value: 29.39126953125.\n",
      "[I 2024-01-16 09:47:25,269] Trial 25 finished with value: 29.39126953125 and parameters: {'model': 'LR'}. Best is trial 1 with value: 29.39126953125.\n",
      "[I 2024-01-16 09:47:25,932] Trial 26 finished with value: 40.975554487979714 and parameters: {'model': 'ADA', 'n_estimators_ab': 194, 'learning_rate_ab': 0.055150439230660965, 'loss_ab': 'linear'}. Best is trial 1 with value: 29.39126953125.\n",
      "[I 2024-01-16 09:47:26,184] Trial 27 finished with value: 44.02691595071643 and parameters: {'model': 'CAT', 'n_estimators_cb': 57, 'learning_rate_cb': 0.15635560193196504, 'depth_cb': 10, 'subsample_cb': 0.5296625307478026, 'colsample_bylevel_cb': 0.5235186889782092, 'border_count_cb': 226}. Best is trial 1 with value: 29.39126953125.\n",
      "[I 2024-01-16 09:47:26,401] Trial 28 finished with value: 36.302051294409914 and parameters: {'model': 'RFR', 'n_estimators_rf': 77, 'max_depth_rf': 5, 'min_samples_split_rf': 2, 'min_samples_leaf_rf': 5}. Best is trial 1 with value: 29.39126953125.\n",
      "[I 2024-01-16 09:47:27,555] Trial 29 finished with value: 34.9489312872705 and parameters: {'model': 'RFR', 'n_estimators_rf': 187, 'max_depth_rf': 15, 'min_samples_split_rf': 6, 'min_samples_leaf_rf': 1}. Best is trial 1 with value: 29.39126953125.\n",
      "[I 2024-01-16 09:47:27,561] Trial 30 finished with value: 29.39126953125 and parameters: {'model': 'LR'}. Best is trial 1 with value: 29.39126953125.\n",
      "[I 2024-01-16 09:47:27,568] Trial 31 finished with value: 29.39126953125 and parameters: {'model': 'LR'}. Best is trial 1 with value: 29.39126953125.\n",
      "[I 2024-01-16 09:47:27,576] Trial 32 finished with value: 29.39126953125 and parameters: {'model': 'LR'}. Best is trial 1 with value: 29.39126953125.\n",
      "[I 2024-01-16 09:47:27,583] Trial 33 finished with value: 29.39126953125 and parameters: {'model': 'LR'}. Best is trial 1 with value: 29.39126953125.\n",
      "[I 2024-01-16 09:47:27,745] Trial 34 finished with value: 39.909154430563405 and parameters: {'model': 'ADA', 'n_estimators_ab': 59, 'learning_rate_ab': 0.10569112661308976, 'loss_ab': 'square'}. Best is trial 1 with value: 29.39126953125.\n",
      "[I 2024-01-16 09:47:27,751] Trial 35 finished with value: 29.39126953125 and parameters: {'model': 'LR'}. Best is trial 1 with value: 29.39126953125.\n",
      "[I 2024-01-16 09:47:28,121] Trial 36 finished with value: 39.12700415337754 and parameters: {'model': 'ADA', 'n_estimators_ab': 141, 'learning_rate_ab': 0.09671499043640053, 'loss_ab': 'linear'}. Best is trial 1 with value: 29.39126953125.\n",
      "[I 2024-01-16 09:47:28,128] Trial 37 finished with value: 29.39126953125 and parameters: {'model': 'LR'}. Best is trial 1 with value: 29.39126953125.\n",
      "[I 2024-01-16 09:47:28,420] Trial 38 finished with value: 31.231410474363766 and parameters: {'model': 'CAT', 'n_estimators_cb': 116, 'learning_rate_cb': 0.10358664520852436, 'depth_cb': 3, 'subsample_cb': 0.720368891828101, 'colsample_bylevel_cb': 0.9910968829536008, 'border_count_cb': 157}. Best is trial 1 with value: 29.39126953125.\n",
      "[I 2024-01-16 09:47:28,868] Trial 39 finished with value: 35.661591317638695 and parameters: {'model': 'RFR', 'n_estimators_rf': 106, 'max_depth_rf': 8, 'min_samples_split_rf': 5, 'min_samples_leaf_rf': 3}. Best is trial 1 with value: 29.39126953125.\n",
      "[I 2024-01-16 09:47:28,875] Trial 40 finished with value: 29.39126953125 and parameters: {'model': 'LR'}. Best is trial 1 with value: 29.39126953125.\n",
      "[I 2024-01-16 09:47:28,883] Trial 41 finished with value: 29.39126953125 and parameters: {'model': 'LR'}. Best is trial 1 with value: 29.39126953125.\n",
      "[I 2024-01-16 09:47:28,891] Trial 42 finished with value: 29.39126953125 and parameters: {'model': 'LR'}. Best is trial 1 with value: 29.39126953125.\n",
      "[I 2024-01-16 09:47:28,902] Trial 43 finished with value: 29.39126953125 and parameters: {'model': 'LR'}. Best is trial 1 with value: 29.39126953125.\n",
      "[I 2024-01-16 09:47:28,909] Trial 44 finished with value: 29.39126953125 and parameters: {'model': 'LR'}. Best is trial 1 with value: 29.39126953125.\n",
      "[I 2024-01-16 09:47:28,919] Trial 45 finished with value: 29.39126953125 and parameters: {'model': 'LR'}. Best is trial 1 with value: 29.39126953125.\n",
      "[I 2024-01-16 09:47:29,264] Trial 46 finished with value: 38.947679868336174 and parameters: {'model': 'ADA', 'n_estimators_ab': 110, 'learning_rate_ab': 0.13318800743177903, 'loss_ab': 'exponential'}. Best is trial 1 with value: 29.39126953125.\n",
      "[I 2024-01-16 09:47:29,516] Trial 47 finished with value: 39.1025511356774 and parameters: {'model': 'CAT', 'n_estimators_cb': 115, 'learning_rate_cb': 0.09912654791802242, 'depth_cb': 7, 'subsample_cb': 0.7069500212798511, 'colsample_bylevel_cb': 0.723887321172331, 'border_count_cb': 32}. Best is trial 1 with value: 29.39126953125.\n",
      "[I 2024-01-16 09:47:29,524] Trial 48 finished with value: 29.39126953125 and parameters: {'model': 'LR'}. Best is trial 1 with value: 29.39126953125.\n",
      "[I 2024-01-16 09:47:29,532] Trial 49 finished with value: 29.39126953125 and parameters: {'model': 'LR'}. Best is trial 1 with value: 29.39126953125.\n",
      "[I 2024-01-16 09:47:29,539] Trial 50 finished with value: 29.39126953125 and parameters: {'model': 'LR'}. Best is trial 1 with value: 29.39126953125.\n",
      "[I 2024-01-16 09:47:29,550] Trial 51 finished with value: 29.39126953125 and parameters: {'model': 'LR'}. Best is trial 1 with value: 29.39126953125.\n",
      "[I 2024-01-16 09:47:29,558] Trial 52 finished with value: 29.39126953125 and parameters: {'model': 'LR'}. Best is trial 1 with value: 29.39126953125.\n",
      "[I 2024-01-16 09:47:29,570] Trial 53 finished with value: 29.39126953125 and parameters: {'model': 'LR'}. Best is trial 1 with value: 29.39126953125.\n",
      "[I 2024-01-16 09:47:29,578] Trial 54 finished with value: 29.39126953125 and parameters: {'model': 'LR'}. Best is trial 1 with value: 29.39126953125.\n",
      "[I 2024-01-16 09:47:29,589] Trial 55 finished with value: 29.39126953125 and parameters: {'model': 'LR'}. Best is trial 1 with value: 29.39126953125.\n",
      "[I 2024-01-16 09:47:30,144] Trial 56 finished with value: 35.01559594792094 and parameters: {'model': 'RFR', 'n_estimators_rf': 118, 'max_depth_rf': 15, 'min_samples_split_rf': 10, 'min_samples_leaf_rf': 2}. Best is trial 1 with value: 29.39126953125.\n",
      "[I 2024-01-16 09:47:30,152] Trial 57 finished with value: 29.39126953125 and parameters: {'model': 'LR'}. Best is trial 1 with value: 29.39126953125.\n",
      "[I 2024-01-16 09:47:30,475] Trial 58 finished with value: 36.30457466063199 and parameters: {'model': 'CAT', 'n_estimators_cb': 186, 'learning_rate_cb': 0.15101068325459674, 'depth_cb': 6, 'subsample_cb': 0.8473475729407641, 'colsample_bylevel_cb': 0.7849359625947295, 'border_count_cb': 126}. Best is trial 1 with value: 29.39126953125.\n",
      "[I 2024-01-16 09:47:30,482] Trial 59 finished with value: 29.39126953125 and parameters: {'model': 'LR'}. Best is trial 1 with value: 29.39126953125.\n",
      "[I 2024-01-16 09:47:30,490] Trial 60 finished with value: 29.39126953125 and parameters: {'model': 'LR'}. Best is trial 1 with value: 29.39126953125.\n",
      "[I 2024-01-16 09:47:30,499] Trial 61 finished with value: 29.39126953125 and parameters: {'model': 'LR'}. Best is trial 1 with value: 29.39126953125.\n",
      "[I 2024-01-16 09:47:30,508] Trial 62 finished with value: 29.39126953125 and parameters: {'model': 'LR'}. Best is trial 1 with value: 29.39126953125.\n",
      "[I 2024-01-16 09:47:30,518] Trial 63 finished with value: 29.39126953125 and parameters: {'model': 'LR'}. Best is trial 1 with value: 29.39126953125.\n",
      "[I 2024-01-16 09:47:30,528] Trial 64 finished with value: 29.39126953125 and parameters: {'model': 'LR'}. Best is trial 1 with value: 29.39126953125.\n",
      "[I 2024-01-16 09:47:31,022] Trial 65 finished with value: 45.05948989041869 and parameters: {'model': 'ADA', 'n_estimators_ab': 151, 'learning_rate_ab': 0.02911202688902774, 'loss_ab': 'linear'}. Best is trial 1 with value: 29.39126953125.\n",
      "[I 2024-01-16 09:47:31,029] Trial 66 finished with value: 29.39126953125 and parameters: {'model': 'LR'}. Best is trial 1 with value: 29.39126953125.\n",
      "[I 2024-01-16 09:47:31,773] Trial 67 finished with value: 35.42189145068529 and parameters: {'model': 'RFR', 'n_estimators_rf': 194, 'max_depth_rf': 9, 'min_samples_split_rf': 4, 'min_samples_leaf_rf': 4}. Best is trial 1 with value: 29.39126953125.\n",
      "[I 2024-01-16 09:47:31,781] Trial 68 finished with value: 29.39126953125 and parameters: {'model': 'LR'}. Best is trial 1 with value: 29.39126953125.\n",
      "[I 2024-01-16 09:47:31,788] Trial 69 finished with value: 29.39126953125 and parameters: {'model': 'LR'}. Best is trial 1 with value: 29.39126953125.\n",
      "[I 2024-01-16 09:47:31,798] Trial 70 finished with value: 29.39126953125 and parameters: {'model': 'LR'}. Best is trial 1 with value: 29.39126953125.\n",
      "[I 2024-01-16 09:47:31,812] Trial 71 finished with value: 29.39126953125 and parameters: {'model': 'LR'}. Best is trial 1 with value: 29.39126953125.\n",
      "[I 2024-01-16 09:47:31,821] Trial 72 finished with value: 29.39126953125 and parameters: {'model': 'LR'}. Best is trial 1 with value: 29.39126953125.\n",
      "[I 2024-01-16 09:47:31,832] Trial 73 finished with value: 29.39126953125 and parameters: {'model': 'LR'}. Best is trial 1 with value: 29.39126953125.\n",
      "[I 2024-01-16 09:47:32,142] Trial 74 finished with value: 40.63822210120608 and parameters: {'model': 'CAT', 'n_estimators_cb': 90, 'learning_rate_cb': 0.05912281455593055, 'depth_cb': 8, 'subsample_cb': 0.6223745945979151, 'colsample_bylevel_cb': 0.623487399791179, 'border_count_cb': 191}. Best is trial 1 with value: 29.39126953125.\n",
      "[I 2024-01-16 09:47:32,149] Trial 75 finished with value: 29.39126953125 and parameters: {'model': 'LR'}. Best is trial 1 with value: 29.39126953125.\n",
      "[I 2024-01-16 09:47:32,158] Trial 76 finished with value: 29.39126953125 and parameters: {'model': 'LR'}. Best is trial 1 with value: 29.39126953125.\n",
      "[I 2024-01-16 09:47:32,465] Trial 77 finished with value: 37.79919874051803 and parameters: {'model': 'ADA', 'n_estimators_ab': 88, 'learning_rate_ab': 0.1995733697955327, 'loss_ab': 'square'}. Best is trial 1 with value: 29.39126953125.\n",
      "[I 2024-01-16 09:47:32,475] Trial 78 finished with value: 29.39126953125 and parameters: {'model': 'LR'}. Best is trial 1 with value: 29.39126953125.\n",
      "[I 2024-01-16 09:47:32,489] Trial 79 finished with value: 29.39126953125 and parameters: {'model': 'LR'}. Best is trial 1 with value: 29.39126953125.\n",
      "[I 2024-01-16 09:47:33,017] Trial 80 finished with value: 36.0126000759971 and parameters: {'model': 'RFR', 'n_estimators_rf': 91, 'max_depth_rf': 12, 'min_samples_split_rf': 7, 'min_samples_leaf_rf': 2}. Best is trial 1 with value: 29.39126953125.\n",
      "[I 2024-01-16 09:47:33,025] Trial 81 finished with value: 29.39126953125 and parameters: {'model': 'LR'}. Best is trial 1 with value: 29.39126953125.\n",
      "[I 2024-01-16 09:47:33,034] Trial 82 finished with value: 29.39126953125 and parameters: {'model': 'LR'}. Best is trial 1 with value: 29.39126953125.\n",
      "[I 2024-01-16 09:47:33,043] Trial 83 finished with value: 29.39126953125 and parameters: {'model': 'LR'}. Best is trial 1 with value: 29.39126953125.\n",
      "[I 2024-01-16 09:47:33,052] Trial 84 finished with value: 29.39126953125 and parameters: {'model': 'LR'}. Best is trial 1 with value: 29.39126953125.\n",
      "[I 2024-01-16 09:47:33,061] Trial 85 finished with value: 29.39126953125 and parameters: {'model': 'LR'}. Best is trial 1 with value: 29.39126953125.\n",
      "[I 2024-01-16 09:47:33,071] Trial 86 finished with value: 29.39126953125 and parameters: {'model': 'LR'}. Best is trial 1 with value: 29.39126953125.\n",
      "[I 2024-01-16 09:47:33,079] Trial 87 finished with value: 29.39126953125 and parameters: {'model': 'LR'}. Best is trial 1 with value: 29.39126953125.\n",
      "[I 2024-01-16 09:47:33,321] Trial 88 finished with value: 33.76553422633716 and parameters: {'model': 'CAT', 'n_estimators_cb': 162, 'learning_rate_cb': 0.19751108802916179, 'depth_cb': 5, 'subsample_cb': 0.8544865353589306, 'colsample_bylevel_cb': 0.8845894270898502, 'border_count_cb': 80}. Best is trial 1 with value: 29.39126953125.\n",
      "[I 2024-01-16 09:47:33,330] Trial 89 finished with value: 29.39126953125 and parameters: {'model': 'LR'}. Best is trial 1 with value: 29.39126953125.\n",
      "[I 2024-01-16 09:47:33,337] Trial 90 finished with value: 29.39126953125 and parameters: {'model': 'LR'}. Best is trial 1 with value: 29.39126953125.\n",
      "[I 2024-01-16 09:47:33,347] Trial 91 finished with value: 29.39126953125 and parameters: {'model': 'LR'}. Best is trial 1 with value: 29.39126953125.\n",
      "[I 2024-01-16 09:47:33,355] Trial 92 finished with value: 29.39126953125 and parameters: {'model': 'LR'}. Best is trial 1 with value: 29.39126953125.\n",
      "[I 2024-01-16 09:47:33,364] Trial 93 finished with value: 29.39126953125 and parameters: {'model': 'LR'}. Best is trial 1 with value: 29.39126953125.\n",
      "[I 2024-01-16 09:47:33,372] Trial 94 finished with value: 29.39126953125 and parameters: {'model': 'LR'}. Best is trial 1 with value: 29.39126953125.\n",
      "[I 2024-01-16 09:47:33,948] Trial 95 finished with value: 39.26135397866266 and parameters: {'model': 'ADA', 'n_estimators_ab': 199, 'learning_rate_ab': 0.07013731612867895, 'loss_ab': 'linear'}. Best is trial 1 with value: 29.39126953125.\n",
      "[I 2024-01-16 09:47:33,956] Trial 96 finished with value: 29.39126953125 and parameters: {'model': 'LR'}. Best is trial 1 with value: 29.39126953125.\n",
      "[I 2024-01-16 09:47:33,964] Trial 97 finished with value: 29.39126953125 and parameters: {'model': 'LR'}. Best is trial 1 with value: 29.39126953125.\n",
      "[I 2024-01-16 09:47:33,973] Trial 98 finished with value: 29.39126953125 and parameters: {'model': 'LR'}. Best is trial 1 with value: 29.39126953125.\n",
      "[I 2024-01-16 09:47:34,554] Trial 99 finished with value: 35.272375483068835 and parameters: {'model': 'RFR', 'n_estimators_rf': 151, 'max_depth_rf': 7, 'min_samples_split_rf': 7, 'min_samples_leaf_rf': 4}. Best is trial 1 with value: 29.39126953125.\n"
     ]
    }
   ],
   "source": [
    "study= optuna.create_study(direction= 'minimize')\n",
    "study.optimize(objective, n_trials= 100)"
   ]
  },
  {
   "cell_type": "code",
   "execution_count": 55,
   "id": "9ecc841c-5836-47e2-94ef-27f0a8321b4d",
   "metadata": {},
   "outputs": [
    {
     "data": {
      "text/plain": [
       "{'model': 'LR'}"
      ]
     },
     "execution_count": 55,
     "metadata": {},
     "output_type": "execute_result"
    }
   ],
   "source": [
    "best_parameters= study.best_params\n",
    "best_parameters"
   ]
  },
  {
   "cell_type": "markdown",
   "id": "b943ff98-f136-4c5f-b8fa-926ebb1763f8",
   "metadata": {},
   "source": [
    "##### Observation:\n",
    "- Linear Regression model is performing the best, as the loss function is the least."
   ]
  },
  {
   "cell_type": "markdown",
   "id": "88d3959c-22da-4ff5-b128-01f7c72b4ba3",
   "metadata": {},
   "source": [
    "#### Linear Regression Model Training"
   ]
  },
  {
   "cell_type": "code",
   "execution_count": 74,
   "id": "57283121-d0c5-4746-abc8-9af7b7507ac9",
   "metadata": {},
   "outputs": [],
   "source": [
    "LR= LinearRegression()\n",
    "LR.fit(X_train, y_train)\n",
    "y_prediction= LR.predict(X_test)"
   ]
  },
  {
   "cell_type": "code",
   "execution_count": 75,
   "id": "f48c666c-1c2b-4387-9a3e-e869f6942466",
   "metadata": {},
   "outputs": [
    {
     "name": "stdout",
     "output_type": "stream",
     "text": [
      "+--------+-------+\n",
      "| Metric | Value |\n",
      "+--------+-------+\n",
      "|  MAE   | 4.225 |\n",
      "|  RMSE  | 5.421 |\n",
      "|   R2   | 0.879 |\n",
      "+--------+-------+\n"
     ]
    }
   ],
   "source": [
    "print(evaluation_metrics(y_test, y_prediction))"
   ]
  },
  {
   "cell_type": "markdown",
   "id": "17989c7b-8559-48af-9b93-117a4b729ac7",
   "metadata": {},
   "source": [
    "#### Difference between actual and predicted values"
   ]
  },
  {
   "cell_type": "code",
   "execution_count": 76,
   "id": "a44afd05-4da4-489c-8876-8a01a7fc8a69",
   "metadata": {},
   "outputs": [],
   "source": [
    "analysis= pd.DataFrame({'True Value': y_test,\n",
    "                        'Predicted Value': y_prediction,\n",
    "                        'Value Difference': y_test - y_prediction})"
   ]
  },
  {
   "cell_type": "markdown",
   "id": "2d7c6efa-2401-4cce-ad84-23a4c6b11eab",
   "metadata": {},
   "source": [
    "Calculating the standard deviation of the predictions."
   ]
  },
  {
   "cell_type": "code",
   "execution_count": 77,
   "id": "f0911739-865c-4d38-b59c-5974eac5c371",
   "metadata": {},
   "outputs": [
    {
     "data": {
      "text/plain": [
       "5.431"
      ]
     },
     "execution_count": 77,
     "metadata": {},
     "output_type": "execute_result"
    }
   ],
   "source": [
    "round(analysis['Value Difference'].std(), 3)"
   ]
  },
  {
   "cell_type": "markdown",
   "id": "0a2fecc8-797f-485c-af44-1d2062e1b2b8",
   "metadata": {},
   "source": [
    "##### The final model has an accuracy of 87.9% with a standard deviation of 5.431, which is satisfactory."
   ]
  }
 ],
 "metadata": {
  "kernelspec": {
   "display_name": "Python 3 (ipykernel)",
   "language": "python",
   "name": "python3"
  },
  "language_info": {
   "codemirror_mode": {
    "name": "ipython",
    "version": 3
   },
   "file_extension": ".py",
   "mimetype": "text/x-python",
   "name": "python",
   "nbconvert_exporter": "python",
   "pygments_lexer": "ipython3",
   "version": "3.10.11"
  }
 },
 "nbformat": 4,
 "nbformat_minor": 5
}
